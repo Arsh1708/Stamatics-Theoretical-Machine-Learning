{
 "cells": [
  {
   "cell_type": "code",
   "execution_count": null,
   "id": "119574fd-7cb7-4710-9fd1-be4c1097c071",
   "metadata": {},
   "outputs": [],
   "source": []
  },
  {
   "cell_type": "markdown",
   "id": "bf82c16b-0806-44bc-9882-270a31e6e33c",
   "metadata": {},
   "source": [
    "<h4>If you tried Logistical Regression, you can see that you can't come up with a closed form solution for it.\n",
    "<br>You get it of the form - \n",
    "<br>$L(X, Y, p) = \\sum_{i} -Y_{i} log(1 + e^{-X_{i}^{T} \\beta}) - (1 - Y_{i}) log(1 + e^{X_{i}^{T} \\beta})$\n",
    "<br>$\\frac{\\partial L}{\\partial \\beta} = \\sum_{i} \\frac{Y_{i} X_{i} e^{-X_{i}^{T} \\beta}}{1 + e^{-X_{i}^{T} \\beta}} - \\frac{(1 - Y_{i}) X_{i} e^{X_{i} \\beta}}{1 + e^{X_{i} \\beta}}$\n",
    "<br> Now, getting a closed form solution for equating this to 0 is not possible, so how do we solve a logistic regression?\n",
    "</h4>"
   ]
  }
 ],
 "metadata": {
  "kernelspec": {
   "display_name": "Python 3 (ipykernel)",
   "language": "python",
   "name": "python3"
  },
  "language_info": {
   "codemirror_mode": {
    "name": "ipython",
    "version": 3
   },
   "file_extension": ".py",
   "mimetype": "text/x-python",
   "name": "python",
   "nbconvert_exporter": "python",
   "pygments_lexer": "ipython3",
   "version": "3.12.1"
  }
 },
 "nbformat": 4,
 "nbformat_minor": 5
}
