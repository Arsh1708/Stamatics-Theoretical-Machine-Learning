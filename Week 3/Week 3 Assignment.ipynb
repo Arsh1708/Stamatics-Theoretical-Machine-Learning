{
 "cells": [
  {
   "cell_type": "markdown",
   "id": "88c74562-9d19-4cf0-aa61-b0acb8e70b5c",
   "metadata": {},
   "source": [
    "## The assignment is to plot a Logistic Regression for the csv file IPL2016.csv. <br>\n",
    "### It is a file containing the strike rate of AB De Villiers and Virat Kohli collectively in each match in IPL 2016, with if RCB won or lost the match. Won has been represented with 1, and Lost with 0(File has been cleaned, cause that is not the purpose of the assignment). \n",
    "### You're assignment is to find a function, such that if we input the collective strike rate of ABD and VK, we can get an accurate probability of RCB winning the match."
   ]
  },
  {
   "cell_type": "markdown",
   "id": "83085a39-f08f-4aa1-904e-67b791eda921",
   "metadata": {},
   "source": [
    "### This is a Logistic Regression problem. <br>\n",
    "### We have basically $Y_i \\stackrel{i.i.d.} \\sim Bern(\\frac{e^{\\beta^T \\vec{X_i}}}{1 + e^{\\beta^T \\vec{X_i}}})$"
   ]
  },
  {
   "cell_type": "markdown",
   "id": "436e93ed-0f3a-4658-a1a5-3336cb55d8f1",
   "metadata": {},
   "source": [
    "Reminder : Don't forget the Intercept Coefficient."
   ]
  },
  {
   "cell_type": "markdown",
   "id": "436e93ed-0f3a-4658-a1a5-3336cb55d8f1",
   "metadata": {},
   "source": [
    "Hint : Maximising a Function is the same as minimising the negative Function."
   ]
  },
  {
   "cell_type": "code",
   "execution_count": null,
   "id": "99d80a1a-0cc7-41d9-bc77-88064e48e912",
   "metadata": {},
   "outputs": [],
   "source": []
  }
 ],
 "metadata": {
  "kernelspec": {
   "display_name": "Python 3 (ipykernel)",
   "language": "python",
   "name": "python3"
  },
  "language_info": {
   "codemirror_mode": {
    "name": "ipython",
    "version": 3
   },
   "file_extension": ".py",
   "mimetype": "text/x-python",
   "name": "python",
   "nbconvert_exporter": "python",
   "pygments_lexer": "ipython3",
   "version": "3.12.1"
  }
 },
 "nbformat": 4,
 "nbformat_minor": 5
}
