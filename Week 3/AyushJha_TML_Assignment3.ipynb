{
 "cells": [
  {
   "cell_type": "code",
   "execution_count": 2,
   "id": "1dd26018-8d63-4d06-bc0d-270749b7e1d9",
   "metadata": {},
   "outputs": [],
   "source": [
    "import numpy as np\n",
    "import pandas as pd\n",
    "import matplotlib.pyplot as plt"
   ]
  },
  {
   "cell_type": "code",
   "execution_count": 4,
   "id": "ce4a5b13-32f9-44a6-a2ea-130034758bc3",
   "metadata": {},
   "outputs": [],
   "source": [
    "from sklearn.linear_model import LogisticRegression\n"
   ]
  },
  {
   "cell_type": "code",
   "execution_count": null,
   "id": "4f685cfa-40c5-415c-a155-90fcc90f711e",
   "metadata": {},
   "outputs": [],
   "source": []
  },
  {
   "cell_type": "code",
   "execution_count": 73,
   "id": "de139906-f005-4bc7-b2bf-b40b54ae7524",
   "metadata": {},
   "outputs": [
    {
     "data": {
      "text/html": [
       "<div>\n",
       "<style scoped>\n",
       "    .dataframe tbody tr th:only-of-type {\n",
       "        vertical-align: middle;\n",
       "    }\n",
       "\n",
       "    .dataframe tbody tr th {\n",
       "        vertical-align: top;\n",
       "    }\n",
       "\n",
       "    .dataframe thead th {\n",
       "        text-align: right;\n",
       "    }\n",
       "</style>\n",
       "<table border=\"1\" class=\"dataframe\">\n",
       "  <thead>\n",
       "    <tr style=\"text-align: right;\">\n",
       "      <th></th>\n",
       "      <th>Unnamed: 0</th>\n",
       "      <th>overall_sr</th>\n",
       "      <th>won</th>\n",
       "    </tr>\n",
       "  </thead>\n",
       "  <tbody>\n",
       "    <tr>\n",
       "      <th>0</th>\n",
       "      <td>1</td>\n",
       "      <td>168.817204</td>\n",
       "      <td>1</td>\n",
       "    </tr>\n",
       "    <tr>\n",
       "      <th>1</th>\n",
       "      <td>2</td>\n",
       "      <td>165.432099</td>\n",
       "      <td>0</td>\n",
       "    </tr>\n",
       "    <tr>\n",
       "      <th>2</th>\n",
       "      <td>3</td>\n",
       "      <td>121.568627</td>\n",
       "      <td>0</td>\n",
       "    </tr>\n",
       "    <tr>\n",
       "      <th>3</th>\n",
       "      <td>4</td>\n",
       "      <td>149.541284</td>\n",
       "      <td>1</td>\n",
       "    </tr>\n",
       "    <tr>\n",
       "      <th>4</th>\n",
       "      <td>5</td>\n",
       "      <td>151.898734</td>\n",
       "      <td>0</td>\n",
       "    </tr>\n",
       "    <tr>\n",
       "      <th>5</th>\n",
       "      <td>6</td>\n",
       "      <td>124.489796</td>\n",
       "      <td>0</td>\n",
       "    </tr>\n",
       "    <tr>\n",
       "      <th>6</th>\n",
       "      <td>7</td>\n",
       "      <td>112.000000</td>\n",
       "      <td>0</td>\n",
       "    </tr>\n",
       "    <tr>\n",
       "      <th>7</th>\n",
       "      <td>8</td>\n",
       "      <td>178.688525</td>\n",
       "      <td>1</td>\n",
       "    </tr>\n",
       "    <tr>\n",
       "      <th>8</th>\n",
       "      <td>9</td>\n",
       "      <td>150.000000</td>\n",
       "      <td>1</td>\n",
       "    </tr>\n",
       "    <tr>\n",
       "      <th>9</th>\n",
       "      <td>10</td>\n",
       "      <td>91.176471</td>\n",
       "      <td>0</td>\n",
       "    </tr>\n",
       "    <tr>\n",
       "      <th>10</th>\n",
       "      <td>11</td>\n",
       "      <td>222.429907</td>\n",
       "      <td>1</td>\n",
       "    </tr>\n",
       "    <tr>\n",
       "      <th>11</th>\n",
       "      <td>12</td>\n",
       "      <td>163.414634</td>\n",
       "      <td>1</td>\n",
       "    </tr>\n",
       "    <tr>\n",
       "      <th>12</th>\n",
       "      <td>13</td>\n",
       "      <td>217.307692</td>\n",
       "      <td>1</td>\n",
       "    </tr>\n",
       "    <tr>\n",
       "      <th>13</th>\n",
       "      <td>14</td>\n",
       "      <td>113.207547</td>\n",
       "      <td>1</td>\n",
       "    </tr>\n",
       "    <tr>\n",
       "      <th>14</th>\n",
       "      <td>15</td>\n",
       "      <td>161.224490</td>\n",
       "      <td>1</td>\n",
       "    </tr>\n",
       "    <tr>\n",
       "      <th>15</th>\n",
       "      <td>16</td>\n",
       "      <td>143.902439</td>\n",
       "      <td>0</td>\n",
       "    </tr>\n",
       "  </tbody>\n",
       "</table>\n",
       "</div>"
      ],
      "text/plain": [
       "    Unnamed: 0  overall_sr  won\n",
       "0            1  168.817204    1\n",
       "1            2  165.432099    0\n",
       "2            3  121.568627    0\n",
       "3            4  149.541284    1\n",
       "4            5  151.898734    0\n",
       "5            6  124.489796    0\n",
       "6            7  112.000000    0\n",
       "7            8  178.688525    1\n",
       "8            9  150.000000    1\n",
       "9           10   91.176471    0\n",
       "10          11  222.429907    1\n",
       "11          12  163.414634    1\n",
       "12          13  217.307692    1\n",
       "13          14  113.207547    1\n",
       "14          15  161.224490    1\n",
       "15          16  143.902439    0"
      ]
     },
     "execution_count": 73,
     "metadata": {},
     "output_type": "execute_result"
    }
   ],
   "source": [
    "data = pd.read_csv('IPL2016.csv')\n",
    "data"
   ]
  },
  {
   "cell_type": "code",
   "execution_count": 74,
   "id": "419589f5-9587-4e1b-bed1-b47af1b5628c",
   "metadata": {},
   "outputs": [],
   "source": [
    "X = data[['overall_sr']].values\n",
    "Y = data['won'].values"
   ]
  },
  {
   "cell_type": "code",
   "execution_count": 75,
   "id": "03f21147-bcbe-497d-bc2f-eac17a68da4f",
   "metadata": {},
   "outputs": [
    {
     "data": {
      "text/plain": [
       "array([[168.8172043 ],\n",
       "       [165.43209877],\n",
       "       [121.56862745],\n",
       "       [149.5412844 ],\n",
       "       [151.89873418],\n",
       "       [124.48979592],\n",
       "       [112.        ],\n",
       "       [178.68852459],\n",
       "       [150.        ],\n",
       "       [ 91.17647059],\n",
       "       [222.42990654],\n",
       "       [163.41463415],\n",
       "       [217.30769231],\n",
       "       [113.20754717],\n",
       "       [161.2244898 ],\n",
       "       [143.90243902]])"
      ]
     },
     "execution_count": 75,
     "metadata": {},
     "output_type": "execute_result"
    }
   ],
   "source": [
    "X"
   ]
  },
  {
   "cell_type": "code",
   "execution_count": 76,
   "id": "ebc09ae9-64a7-4209-994b-1b8d22f74126",
   "metadata": {},
   "outputs": [
    {
     "data": {
      "text/plain": [
       "array([1, 0, 0, 1, 0, 0, 0, 1, 1, 0, 1, 1, 1, 1, 1, 0])"
      ]
     },
     "execution_count": 76,
     "metadata": {},
     "output_type": "execute_result"
    }
   ],
   "source": [
    "Y"
   ]
  },
  {
   "cell_type": "markdown",
   "id": "0b5e5dcb-79ef-431f-8be4-f171529ba560",
   "metadata": {},
   "source": [
    "## PLOTTING"
   ]
  },
  {
   "cell_type": "code",
   "execution_count": 77,
   "id": "56c99f3c-b9de-4908-9b67-ebdecab76573",
   "metadata": {},
   "outputs": [
    {
     "data": {
      "image/png": "[encoded data removed]",
      "text/plain": [
       "<Figure size 640x480 with 1 Axes>"
      ]
     },
     "metadata": {},
     "output_type": "display_data"
    }
   ],
   "source": [
    "plt.scatter(X,Y)\n",
    "plt.suptitle('Data Points')\n",
    "plt.xlabel('Strike Rate')\n",
    "plt.ylabel('Won/Lose')\n",
    "plt.show()"
   ]
  },
  {
   "cell_type": "code",
   "execution_count": 82,
   "id": "5c8ba37c-ce5c-4d0e-a39e-8c817824cccc",
   "metadata": {},
   "outputs": [],
   "source": [
    "logr = LogisticRegression()\n",
    "logr.fit(X,Y)\n",
    "intercept = logr.intercept_[0]\n",
    "coef = logr.coef_[0][0]"
   ]
  },
  {
   "cell_type": "code",
   "execution_count": 83,
   "id": "633d090f-69ad-45d6-a1b4-2ec5e319a375",
   "metadata": {},
   "outputs": [],
   "source": [
    "def sigmoid(x):\n",
    "    return 1 / (1 + np.exp(-(intercept + coef * x)))\n"
   ]
  },
  {
   "cell_type": "code",
   "execution_count": 84,
   "id": "75c262f9-0989-401d-b1a1-93a8bb6e55e6",
   "metadata": {},
   "outputs": [],
   "source": [
    "strike_rate_range = np.linspace(X.min(), X.max(), 300)\n",
    "probabilities = sigmoid(strike_rate_range)"
   ]
  },
  {
   "cell_type": "code",
   "execution_count": 99,
   "id": "269fbf1e-cd7d-4fa3-9932-3fbc607c48f5",
   "metadata": {},
   "outputs": [
    {
     "data": {
      "image/png": "[encoded data removed]",
      "text/plain": [
       "<Figure size 640x480 with 1 Axes>"
      ]
     },
     "metadata": {},
     "output_type": "display_data"
    }
   ],
   "source": [
    "plt.scatter(X, Y, c='red', label='Data Points')\n",
    "plt.plot(strike_rate_range, probabilities, color='green', label='Sigmoid Curve')\n",
    "plt.xlabel('Strike Rate')\n",
    "plt.ylabel('Probability of Winning the Game')\n",
    "plt.legend()\n",
    "plt.grid(1,which='both')\n",
    "plt.title('Logistic Regression for RCB in IPL 2016 ')\n",
    "plt.show()"
   ]
  },
  {
   "cell_type": "code",
   "execution_count": 86,
   "id": "253559e3-8de5-4d53-bd3d-072cab80d3ff",
   "metadata": {},
   "outputs": [],
   "source": [
    "def predict(strike_rate):\n",
    "    return sigmoid(strike_rate)\n"
   ]
  },
  {
   "cell_type": "code",
   "execution_count": 96,
   "id": "1ae5b5af-ea84-451c-8ee0-9d6952610e8b",
   "metadata": {},
   "outputs": [
    {
     "name": "stdout",
     "output_type": "stream",
     "text": [
      "Probability of Wining the game is 0.9502391912090772\n"
     ]
    }
   ],
   "source": [
    "strike_rate_example=200\n",
    "\n",
    "print(f\"Probability of Wining the game is {predict(strike_rate_example)}\")"
   ]
  },
  {
   "cell_type": "code",
   "execution_count": null,
   "id": "b6b6ba2a-d241-4835-b53e-c13e9c6b373c",
   "metadata": {},
   "outputs": [],
   "source": []
  }
 ],
 "metadata": {
  "kernelspec": {
   "display_name": "Python 3 (ipykernel)",
   "language": "python",
   "name": "python3"
  },
  "language_info": {
   "codemirror_mode": {
    "name": "ipython",
    "version": 3
   },
   "file_extension": ".py",
   "mimetype": "text/x-python",
   "name": "python",
   "nbconvert_exporter": "python",
   "pygments_lexer": "ipython3",
   "version": "3.12.0"
  }
 },
 "nbformat": 4,
 "nbformat_minor": 5
}
