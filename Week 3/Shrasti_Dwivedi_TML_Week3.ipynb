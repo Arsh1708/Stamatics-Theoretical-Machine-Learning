{
 "cells": [
  {
   "cell_type": "markdown",
   "id": "88c74562-9d19-4cf0-aa61-b0acb8e70b5c",
   "metadata": {},
   "source": [
    "## The assignment is to plot a Logistic Regression for the csv file IPL2016.csv. <br>\n",
    "### It is a file containing the strike rate of AB De Villiers and Virat Kohli collectively in each match in IPL 2016, with if RCB won or lost the match. Won has been represented with 1, and Lost with 0(File has been cleaned, cause that is not the purpose of the assignment). \n",
    "### You're assignment is to find a function, such that if we input the collective strike rate of ABD and VK, we can get an accurate probability of RCB winning the match."
   ]
  },
  {
   "cell_type": "markdown",
   "id": "83085a39-f08f-4aa1-904e-67b791eda921",
   "metadata": {},
   "source": [
    "### This is a Logistic Regression problem. <br>\n",
    "### We have basically $Y_i \\stackrel{i.i.d.} \\sim Bern(\\frac{e^{\\beta^T \\vec{X_i}}}{1 + e^{\\beta^T \\vec{X_i}}})$"
   ]
  },
  {
   "cell_type": "markdown",
   "id": "436e93ed-0f3a-4658-a1a5-3336cb55d8f1",
   "metadata": {},
   "source": [
    "Reminder : Don't forget the Intercept Coefficient."
   ]
  },
  {
   "cell_type": "markdown",
   "id": "436e93ed-0f3a-4658-a1a5-3336cb55d8f1",
   "metadata": {},
   "source": [
    "Hint : Maximising a Function is the same as minimising the negative Function."
   ]
  },
  {
   "cell_type": "code",
   "execution_count": 3,
   "id": "99d80a1a-0cc7-41d9-bc77-88064e48e912",
   "metadata": {},
   "outputs": [],
   "source": [
    "import numpy as np\n",
    "import pandas as pd\n",
    "import matplotlib.pyplot as plt\n",
    "import random"
   ]
  },
  {
   "cell_type": "code",
   "execution_count": 4,
   "id": "12d44ffd",
   "metadata": {},
   "outputs": [
    {
     "data": {
      "text/plain": [
       "<matplotlib.collections.PathCollection at 0x2743707d7d0>"
      ]
     },
     "execution_count": 4,
     "metadata": {},
     "output_type": "execute_result"
    },
    {
     "data": {
      "image/png": "[encoded data removed]",
      "text/plain": [
       "<Figure size 640x480 with 1 Axes>"
      ]
     },
     "metadata": {},
     "output_type": "display_data"
    }
   ],
   "source": [
    "df=pd.read_csv(\"IPL2016.csv\")\n",
    "X=df[\"overall_sr\"]/200\n",
    "Y=df[\"won\"]\n",
    "plt.scatter(X,Y)"
   ]
  },
  {
   "cell_type": "code",
   "execution_count": 5,
   "id": "35fe8c8d",
   "metadata": {},
   "outputs": [],
   "source": [
    "def sigmoid(x):\n",
    "    return 1/(1+ np.exp(-x))\n",
    "\n",
    "def square_loss(y_pred,y_test):\n",
    "    return np.mean((y_pred - y_test)**2)\n",
    "\n",
    "def dW(X, y, y_pred):\n",
    "    m = y.shape[0]\n",
    "    derivative_W = -np.sum(X * (y-y_pred))/m\n",
    "    return derivative_W\n",
    "\n",
    "\n",
    "def db(y, y_pred):\n",
    "    m = y.shape[0]\n",
    "    derivative_b = -np.sum(y-y_pred)/m\n",
    "    return derivative_b\n",
    "\n",
    "\n",
    "def CostFunction(y, y_pred):\n",
    "    m = y.shape[0]\n",
    "    cost = -np.sum(y * np.log(y_pred) + (1-y) * np.log(1-y_pred))/m\n",
    "    return cost\n",
    "\n",
    "def GradientDescent(X, y, W, b, epochs, learningRate):\n",
    "    costHistory = []\n",
    "    for i in range(epochs):\n",
    "        W_curr, b_curr = W, b\n",
    "        y_pred = sigmoid(W_curr*X + b_curr)\n",
    "        W = W - learningRate * dW(X, y, y_pred)\n",
    "        b = b - learningRate * db(y, y_pred)\n",
    "        if i%100 == 0:\n",
    "            costHistory.append(CostFunction(y, y_pred))\n",
    "    return W, b ,costHistory"
   ]
  },
  {
   "cell_type": "code",
   "execution_count": 8,
   "id": "e132a469",
   "metadata": {},
   "outputs": [],
   "source": [
    "ALPHA = 0.1\n",
    "epochs = 15000\n",
    "\n",
    "W = np.random.randn()\n",
    "b = 0\n",
    "costHistory = []\n",
    "\n",
    "\n",
    "W, b, costHistory = GradientDescent(X, Y, W, b, epochs, ALPHA)"
   ]
  },
  {
   "cell_type": "code",
   "execution_count": 9,
   "id": "fa228e15",
   "metadata": {},
   "outputs": [
    {
     "data": {
      "text/plain": [
       "(9.646665196304937, -6.907441285262937)"
      ]
     },
     "execution_count": 9,
     "metadata": {},
     "output_type": "execute_result"
    }
   ],
   "source": [
    "W, b"
   ]
  },
  {
   "cell_type": "code",
   "execution_count": 12,
   "id": "99d64057",
   "metadata": {},
   "outputs": [
    {
     "data": {
      "image/png": "[encoded data removed]",
      "text/plain": [
       "<Figure size 500x400 with 1 Axes>"
      ]
     },
     "metadata": {},
     "output_type": "display_data"
    }
   ],
   "source": [
    "figure = plt.figure(figsize=(5, 4))\n",
    "ax = figure.add_subplot(111, facecolor='black')\n",
    "\n",
    "scatter = ax.scatter(X, Y, c='yellow')\n",
    "\n",
    "ax.set_xlabel('Combined Strikerate')\n",
    "ax.set_ylabel('Result')\n",
    "\n",
    "X_axis = np.linspace(0, 2, 100)\n",
    "plot_sigmoid = ax.plot(X_axis, sigmoid(X_axis*W+b), c='red')\n",
    "\n",
    "plt.show()"
   ]
  },
  {
   "cell_type": "code",
   "execution_count": 14,
   "id": "294b8222",
   "metadata": {},
   "outputs": [
    {
     "name": "stdout",
     "output_type": "stream",
     "text": [
      " Accuracy = 75.0 %\n"
     ]
    }
   ],
   "source": [
    "m = Y.shape[0]\n",
    "correctPredictions = 0\n",
    "for i, strikeRate in enumerate(X):\n",
    "    if W * strikeRate + b >= 0.5:\n",
    "        prediction = 1\n",
    "    else:\n",
    "        prediction = 0\n",
    "    correctPredictions += Y[i]==prediction\n",
    "\n",
    "print(f\" Accuracy = {(correctPredictions / m) * 100} %\")"
   ]
  },
  {
   "cell_type": "code",
   "execution_count": 16,
   "id": "9cf19556",
   "metadata": {},
   "outputs": [
    {
     "data": {
      "text/plain": [
       "0.24611477041530871"
      ]
     },
     "execution_count": 16,
     "metadata": {},
     "output_type": "execute_result"
    }
   ],
   "source": [
    "def WinProbabilty(StrikeRate):\n",
    "    StrikeRate = StrikeRate / 200 \n",
    "    global W, b\n",
    "    return sigmoid(W*StrikeRate+b)\n",
    "\n",
    "WinProbabilty(120)"
   ]
  }
 ],
 "metadata": {
  "kernelspec": {
   "display_name": "Python 3 (ipykernel)",
   "language": "python",
   "name": "python3"
  },
  "language_info": {
   "codemirror_mode": {
    "name": "ipython",
    "version": 3
   },
   "file_extension": ".py",
   "mimetype": "text/x-python",
   "name": "python",
   "nbconvert_exporter": "python",
   "pygments_lexer": "ipython3",
   "version": "3.11.4"
  }
 },
 "nbformat": 4,
 "nbformat_minor": 5
}
