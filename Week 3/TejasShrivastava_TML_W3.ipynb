{
 "cells": [
  {
   "cell_type": "code",
   "execution_count": 1,
   "metadata": {},
   "outputs": [],
   "source": [
    "import numpy as np\n",
    "import matplotlib.pyplot as plt\n",
    "import pandas as pd"
   ]
  },
  {
   "cell_type": "code",
   "execution_count": 21,
   "metadata": {},
   "outputs": [
    {
     "data": {
      "text/html": [
       "<div>\n",
       "<style scoped>\n",
       "    .dataframe tbody tr th:only-of-type {\n",
       "        vertical-align: middle;\n",
       "    }\n",
       "\n",
       "    .dataframe tbody tr th {\n",
       "        vertical-align: top;\n",
       "    }\n",
       "\n",
       "    .dataframe thead th {\n",
       "        text-align: right;\n",
       "    }\n",
       "</style>\n",
       "<table border=\"1\" class=\"dataframe\">\n",
       "  <thead>\n",
       "    <tr style=\"text-align: right;\">\n",
       "      <th></th>\n",
       "      <th>Unnamed: 0</th>\n",
       "      <th>overall_sr</th>\n",
       "      <th>won</th>\n",
       "    </tr>\n",
       "  </thead>\n",
       "  <tbody>\n",
       "    <tr>\n",
       "      <th>0</th>\n",
       "      <td>1</td>\n",
       "      <td>168.817204</td>\n",
       "      <td>1</td>\n",
       "    </tr>\n",
       "    <tr>\n",
       "      <th>1</th>\n",
       "      <td>2</td>\n",
       "      <td>165.432099</td>\n",
       "      <td>0</td>\n",
       "    </tr>\n",
       "    <tr>\n",
       "      <th>2</th>\n",
       "      <td>3</td>\n",
       "      <td>121.568627</td>\n",
       "      <td>0</td>\n",
       "    </tr>\n",
       "    <tr>\n",
       "      <th>3</th>\n",
       "      <td>4</td>\n",
       "      <td>149.541284</td>\n",
       "      <td>1</td>\n",
       "    </tr>\n",
       "    <tr>\n",
       "      <th>4</th>\n",
       "      <td>5</td>\n",
       "      <td>151.898734</td>\n",
       "      <td>0</td>\n",
       "    </tr>\n",
       "  </tbody>\n",
       "</table>\n",
       "</div>"
      ],
      "text/plain": [
       "   Unnamed: 0  overall_sr  won\n",
       "0           1  168.817204    1\n",
       "1           2  165.432099    0\n",
       "2           3  121.568627    0\n",
       "3           4  149.541284    1\n",
       "4           5  151.898734    0"
      ]
     },
     "execution_count": 21,
     "metadata": {},
     "output_type": "execute_result"
    }
   ],
   "source": [
    "df = pd.read_csv(\"D:\\\\Skills\\\\SUMMER PROJECTS\\\\TML\\\\IPL2016.csv\")\n",
    "df.head()"
   ]
  },
  {
   "cell_type": "code",
   "execution_count": 22,
   "metadata": {},
   "outputs": [
    {
     "data": {
      "text/plain": [
       "(array([0.84408602, 0.82716049, 0.60784314, 0.74770642, 0.75949367,\n",
       "        0.62244898, 0.56      , 0.89344262, 0.75      , 0.45588235,\n",
       "        1.11214953, 0.81707317, 1.08653846, 0.56603774, 0.80612245,\n",
       "        0.7195122 ]),\n",
       " array([1, 0, 0, 1, 0, 0, 0, 1, 1, 0, 1, 1, 1, 1, 1, 0], dtype=int64))"
      ]
     },
     "execution_count": 22,
     "metadata": {},
     "output_type": "execute_result"
    }
   ],
   "source": [
    "df.drop(columns=['Unnamed: 0'], inplace = True)\n",
    "\n",
    "X = np.array(df.loc[:, 'overall_sr'])\n",
    "y = np.array(df.loc[:, 'won'])\n",
    "\n",
    "X = X/200 # scaling appropriately to avoid overflow\n",
    "X, y\n"
   ]
  },
  {
   "cell_type": "code",
   "execution_count": 23,
   "metadata": {},
   "outputs": [
    {
     "data": {
      "image/png": "[encoded data removed]",
      "text/plain": [
       "<Figure size 500x400 with 1 Axes>"
      ]
     },
     "metadata": {},
     "output_type": "display_data"
    }
   ],
   "source": [
    "figure = plt.figure(figsize=(5, 4))\n",
    "ax = figure.add_subplot(111, facecolor='black')\n",
    "\n",
    "scatter = ax.scatter(X, y, c='yellow')\n",
    "ax.set_xlabel('Combined Strikerate')\n",
    "ax.set_ylabel('Result')\n",
    "\n",
    "plt.show()"
   ]
  },
  {
   "cell_type": "code",
   "execution_count": 24,
   "metadata": {},
   "outputs": [],
   "source": [
    "def sigmoid(x):\n",
    "    return 1/(1+np.exp(-x))\n",
    "\n",
    "\n",
    "def dW(X, y, y_pred):\n",
    "    m = y.shape[0]\n",
    "    derivative_W = -np.sum(X * (y-y_pred))/m\n",
    "    return derivative_W\n",
    "\n",
    "\n",
    "def db(y, y_pred):\n",
    "    m = y.shape[0]\n",
    "    derivative_b = -np.sum(y-y_pred)/m\n",
    "    return derivative_b\n",
    "\n",
    "\n",
    "def CostFunction(y, y_pred):\n",
    "    m = y.shape[0]\n",
    "    cost = -np.sum(y * np.log(y_pred) + (1-y) * np.log(1-y_pred))/m\n",
    "    return cost\n",
    "\n",
    "def GradientDescent(X, y, W, b, epochs, learningRate):\n",
    "    costHistory = []\n",
    "    for i in range(epochs):\n",
    "        W_curr, b_curr = W, b\n",
    "        y_pred = sigmoid(W_curr*X + b_curr)\n",
    "        W = W - learningRate * dW(X, y, y_pred)\n",
    "        b = b - learningRate * db(y, y_pred)\n",
    "        if i%100 == 0:\n",
    "            costHistory.append(CostFunction(y, y_pred))\n",
    "    return W, b ,costHistory"
   ]
  },
  {
   "cell_type": "code",
   "execution_count": 25,
   "metadata": {},
   "outputs": [],
   "source": [
    "ALPHA = 0.1\n",
    "epochs = 15000\n",
    "\n",
    "W = np.random.randn()\n",
    "b = 0\n",
    "costHistory = []\n",
    "\n",
    "\n",
    "W, b, costHistory = GradientDescent(X, y, W, b, epochs, ALPHA)"
   ]
  },
  {
   "cell_type": "code",
   "execution_count": 26,
   "metadata": {},
   "outputs": [
    {
     "data": {
      "text/plain": [
       "(9.667179215419589, -6.922613341768563)"
      ]
     },
     "execution_count": 26,
     "metadata": {},
     "output_type": "execute_result"
    }
   ],
   "source": [
    "W, b"
   ]
  },
  {
   "cell_type": "code",
   "execution_count": 27,
   "metadata": {},
   "outputs": [
    {
     "data": {
      "text/plain": [
       "[<matplotlib.lines.Line2D at 0x27f620f1790>]"
      ]
     },
     "execution_count": 27,
     "metadata": {},
     "output_type": "execute_result"
    },
    {
     "data": {
      "image/png": "[encoded data removed]",
      "text/plain": [
       "<Figure size 640x480 with 1 Axes>"
      ]
     },
     "metadata": {},
     "output_type": "display_data"
    }
   ],
   "source": [
    "x_temp = np.arange(0, len(costHistory))\n",
    "plt.plot(x_temp, costHistory)"
   ]
  },
  {
   "cell_type": "code",
   "execution_count": 28,
   "metadata": {},
   "outputs": [
    {
     "data": {
      "image/png": "[encoded data removed]",
      "text/plain": [
       "<Figure size 500x400 with 1 Axes>"
      ]
     },
     "metadata": {},
     "output_type": "display_data"
    }
   ],
   "source": [
    "figure = plt.figure(figsize=(5, 4))\n",
    "ax = figure.add_subplot(111, facecolor='black')\n",
    "\n",
    "scatter = ax.scatter(X, y, c='yellow')\n",
    "\n",
    "ax.set_xlabel('Combined Strikerate')\n",
    "ax.set_ylabel('Result')\n",
    "\n",
    "X_axis = np.linspace(0, 2, 100)\n",
    "plot_sigmoid = ax.plot(X_axis, sigmoid(X_axis*W+b), c='red')\n",
    "\n",
    "plt.show()"
   ]
  },
  {
   "cell_type": "code",
   "execution_count": 29,
   "metadata": {},
   "outputs": [
    {
     "name": "stdout",
     "output_type": "stream",
     "text": [
      " Accuracy = 75.0 %\n"
     ]
    }
   ],
   "source": [
    "m = y.shape[0]\n",
    "correctPredictions = 0\n",
    "for i, strikeRate in enumerate(X):\n",
    "    if W * strikeRate + b >= 0.5:\n",
    "        prediction = 1\n",
    "    else:\n",
    "        prediction = 0\n",
    "    correctPredictions += y[i]==prediction\n",
    "\n",
    "print(f\" Accuracy = {(correctPredictions / m) * 100} %\")"
   ]
  },
  {
   "cell_type": "code",
   "execution_count": 34,
   "metadata": {},
   "outputs": [
    {
     "data": {
      "text/plain": [
       "0.5812169451621515"
      ]
     },
     "execution_count": 34,
     "metadata": {},
     "output_type": "execute_result"
    }
   ],
   "source": [
    "def WinProbabilty(StrikeRate):\n",
    "    StrikeRate = StrikeRate / 200 # scaled by the same factor used for train dataset\n",
    "    global W, b\n",
    "    return sigmoid(W*StrikeRate+b)\n",
    "\n",
    "WinProbabilty(150)"
   ]
  }
 ],
 "metadata": {
  "kernelspec": {
   "display_name": "Python 3",
   "language": "python",
   "name": "python3"
  },
  "language_info": {
   "codemirror_mode": {
    "name": "ipython",
    "version": 3
   },
   "file_extension": ".py",
   "mimetype": "text/x-python",
   "name": "python",
   "nbconvert_exporter": "python",
   "pygments_lexer": "ipython3",
   "version": "3.12.0"
  }
 },
 "nbformat": 4,
 "nbformat_minor": 2
}
