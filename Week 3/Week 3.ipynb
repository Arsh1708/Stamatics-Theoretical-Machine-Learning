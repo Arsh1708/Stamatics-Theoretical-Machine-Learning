{
 "cells": [
  {
   "cell_type": "markdown",
   "id": "6367070c-3e2f-408d-807a-23152acad3c9",
   "metadata": {},
   "source": [
    "# Likelihood Functions <br>\n",
    "We basically use these to predict unkown coefficients for known functions. Ignore this. <br>\n",
    "Say, we have a sample x = <$x_1, x_2, ..., x_n$>, which we know is drawn from a Bernoulli distribution, with parameter p, independently. Can we predict the value of p, given x? <br>\n",
    "A simpler example would be if we have a biased coin with probability of heads 0.7, and we toss it n times, to get 7 heads. What is the likely value of n? <br>\n",
    "P(7|n, p) = ${n \\choose 7} 0.75^7 0.25^{n - 7}$ <br>\n",
    "Let's maximise it to see the maximum likely value of n."
   ]
  },
  {
   "cell_type": "code",
   "execution_count": 1,
   "id": "5f1bfa3b-1032-4b2f-ad90-c5426d5af551",
   "metadata": {},
   "outputs": [],
   "source": [
    "import numpy as np\n",
    "import matplotlib.pyplot as plt\n",
    "import math"
   ]
  },
  {
   "cell_type": "code",
   "execution_count": 2,
   "id": "5f048627-0ff7-4eac-b22b-b4ca1de4f15e",
   "metadata": {},
   "outputs": [],
   "source": [
    "def PFunc(n):\n",
    "    return math.factorial(n)/(math.factorial(7) * math.factorial(n - 7)) * 0.75**7 * 0.25**(n - 7)"
   ]
  },
  {
   "cell_type": "code",
   "execution_count": 20,
   "id": "949c7f82-edec-4b34-a802-8d4c1872c4d6",
   "metadata": {},
   "outputs": [],
   "source": [
    "X = np.arange(7, 21)\n",
    "Y = np.vectorize(PFunc)(X)"
   ]
  },
  {
   "cell_type": "code",
   "execution_count": 18,
   "id": "3f78e214-aae6-4cf2-9304-58277db35ea9",
   "metadata": {},
   "outputs": [
    {
     "data": {
      "text/plain": [
       "array([ 7,  8,  9, 10, 11, 12, 13, 14, 15, 16, 17, 18, 19, 20])"
      ]
     },
     "execution_count": 18,
     "metadata": {},
     "output_type": "execute_result"
    }
   ],
   "source": [
    "X"
   ]
  },
  {
   "cell_type": "code",
   "execution_count": 21,
   "id": "9f8d724d-1f40-4404-9b73-d021e001bc5b",
   "metadata": {},
   "outputs": [
    {
     "data": {
      "text/plain": [
       "array([1.33483887e-01, 2.66967773e-01, 3.00338745e-01, 2.50282288e-01,\n",
       "       1.72069073e-01, 1.03241444e-01, 5.59224486e-02, 2.79612243e-02,\n",
       "       1.31068239e-02, 5.82525507e-03, 2.47573340e-03, 1.01280003e-03,\n",
       "       4.00900011e-04, 1.54192312e-04])"
      ]
     },
     "execution_count": 21,
     "metadata": {},
     "output_type": "execute_result"
    }
   ],
   "source": [
    "Y"
   ]
  },
  {
   "cell_type": "code",
   "execution_count": 4,
   "id": "ae9fa195-7d25-444d-95aa-b983a7a22c45",
   "metadata": {},
   "outputs": [
    {
     "data": {
      "text/plain": [
       "<matplotlib.collections.PathCollection at 0x11279a600>"
      ]
     },
     "execution_count": 4,
     "metadata": {},
     "output_type": "execute_result"
    },
    {
     "data": {
      "image/png": "[encoded data removed]",
      "text/plain": [
       "<Figure size 640x480 with 1 Axes>"
      ]
     },
     "metadata": {},
     "output_type": "display_data"
    }
   ],
   "source": [
    "plt.scatter(X, Y)"
   ]
  },
  {
   "cell_type": "markdown",
   "id": "708766a3-6b2e-41c3-a7cf-81da59ae4463",
   "metadata": {},
   "source": [
    "We use similar ideas for Continous distributions, but when we have many samples, we use a joint distribution. Let's look at the Bernoulli example. <br>\n",
    "$L(p|x) = f(x_1, x_2, ..., x_n|p) = (p^{x_1} (1 - p)^{1 - x_1})(p^{x_2} (1 - p)^{1 - x_2})...(p^{x_n} (1 - p)^{1 - x_n})$\n",
    "<br>\n",
    "This is hard to maximise this, so let us try to maximise another function.\n",
    "<br>\n",
    "$l(p|x) = log(L(p|x)) = log(p)\\Sigma_i(x_i) + log(1 - p)\\Sigma_i(1 - x_i)$\n",
    "<br>\n",
    "Using basic differentiation, you'll get this to to be $\\hat{p} = \\bar{x}_n$."
   ]
  },
  {
   "cell_type": "markdown",
   "id": "f4339045-6648-4d2e-a18d-57d5676d9441",
   "metadata": {},
   "source": [
    "### Try to understand why maximising l(p) also maximises L(p)."
   ]
  },
  {
   "cell_type": "markdown",
   "id": "2d5d4e8b-549d-4b8e-90cd-3abd2b1f3193",
   "metadata": {},
   "source": [
    "# Newton Raphson Method"
   ]
  },
  {
   "cell_type": "markdown",
   "id": "8c053457-5e88-4fa9-a564-70fd37406c24",
   "metadata": {},
   "source": [
    "### We use this method to find the roots of functions. \n",
    "<br>\n",
    "Let us say we need to approximate the value of $\\sqrt2$. We have $\\sqrt2$ as the root of the function f(x) = $x^2 - 2$"
   ]
  },
  {
   "cell_type": "markdown",
   "id": "f01bc404-8b33-4cd5-ad66-9cb121f0d866",
   "metadata": {},
   "source": [
    "$f'(x_0) \\approx \\frac{f(x) - f(x_0)}{x - x_0}$\n",
    "<br>\n",
    "We go by iteration, and we try to stop when f(x) = 0.\n",
    "<br>\n",
    "$f(x) - f(x_0) = f'(x_0)x - f'(x_0)x_0$\n",
    "<br>\n",
    "Set f(x) = 0, and iteratively,\n",
    "<br>\n",
    "$-f(x_0) = f'(x_0)x_1 - f'(x_0)x_0$\n",
    "<br>\n",
    "$x_1 = x_0 - \\frac{f(x_0)}{f'(x_0)}$\n",
    "<br>\n",
    "Stop when we get an $x_i$ with $f(x_i)$ close enough to 0."
   ]
  },
  {
   "cell_type": "code",
   "execution_count": 34,
   "id": "471dbc2e-fe40-4159-832c-ea3393b8bcd5",
   "metadata": {},
   "outputs": [],
   "source": [
    "def newRaphSquare(epsilon = 1e-4, iters = 1e3, start = 5):\n",
    "    x = start\n",
    "    L = [x]\n",
    "    it = 0\n",
    "    while x**2 - 2 > epsilon:\n",
    "        x = x - (x**2 - 2)/(2*x)\n",
    "        L.append(x)\n",
    "        it += 1\n",
    "        if it == iters:\n",
    "            print(\"DNC\")\n",
    "            break\n",
    "    L.append(x)\n",
    "    return np.array(L)"
   ]
  },
  {
   "cell_type": "code",
   "execution_count": 35,
   "id": "e12be926-e1e4-4481-9660-536f377059ba",
   "metadata": {},
   "outputs": [],
   "source": [
    "X = newRaphSquare(start = 1e-3)"
   ]
  },
  {
   "cell_type": "code",
   "execution_count": 36,
   "id": "6dcefc3b-4612-404c-8c49-ea8e919123a0",
   "metadata": {},
   "outputs": [
    {
     "data": {
      "text/plain": [
       "array([0.001, 0.001])"
      ]
     },
     "execution_count": 36,
     "metadata": {},
     "output_type": "execute_result"
    }
   ],
   "source": [
    "X"
   ]
  },
  {
   "cell_type": "code",
   "execution_count": 37,
   "id": "5e695cbf-5abe-4797-bd5d-a7438a7bd476",
   "metadata": {},
   "outputs": [],
   "source": [
    "Y = X**2 - 2"
   ]
  },
  {
   "cell_type": "code",
   "execution_count": 38,
   "id": "1609a9ab-b624-4e7b-8782-a12490bd6c59",
   "metadata": {},
   "outputs": [
    {
     "data": {
      "text/plain": [
       "array([-1.999999, -1.999999])"
      ]
     },
     "execution_count": 38,
     "metadata": {},
     "output_type": "execute_result"
    }
   ],
   "source": [
    "Y"
   ]
  },
  {
   "cell_type": "code",
   "execution_count": 39,
   "id": "a160f2e4-4049-4f06-8076-d15838ca8f4c",
   "metadata": {},
   "outputs": [
    {
     "data": {
      "text/plain": [
       "[<matplotlib.lines.Line2D at 0x112ab18e0>]"
      ]
     },
     "execution_count": 39,
     "metadata": {},
     "output_type": "execute_result"
    },
    {
     "data": {
      "image/png": "[encoded data removed]",
      "text/plain": [
       "<Figure size 640x480 with 1 Axes>"
      ]
     },
     "metadata": {},
     "output_type": "display_data"
    }
   ],
   "source": [
    "x = np.arange(-6, 6, 0.1)\n",
    "y = x**2 - 2\n",
    "plt.plot(x, y)\n",
    "plt.axhline(0)\n",
    "plt.plot(X, Y)"
   ]
  },
  {
   "cell_type": "markdown",
   "id": "4413bf26-7885-4ed2-89d0-f45ba1e49ddc",
   "metadata": {},
   "source": [
    "### Try different starting values. Go higher. Try as low as $10^{-3}$. Go into negative values, and see where it converges."
   ]
  },
  {
   "cell_type": "markdown",
   "id": "660b6aae-ff34-499f-b219-cc4aa26d7d48",
   "metadata": {},
   "source": [
    "### We could directly expand this to more dimensions by converting the $\\frac{1}{f'(x)}$ to $f'(x)^{-1}$"
   ]
  },
  {
   "cell_type": "markdown",
   "id": "0b823888-d7e0-4fad-b2e8-880ecca794a9",
   "metadata": {},
   "source": [
    "### How does this help us in regressions? In regression, we need to minimize the loss, or maximise the log likelihood, so, we need to get L'(x) = 0, so our function f(x) = L'(x)."
   ]
  },
  {
   "cell_type": "markdown",
   "id": "be646a69-7ebf-41ae-8469-d838e9b6e9a0",
   "metadata": {},
   "source": [
    "### L(x) = $\\Sigma_i \\frac{(y_i - mx_i - b)^2}{N}$ <br>\n",
    "### L'(x) = $\\begin{bmatrix}\\Sigma_i \\frac{-2x_i(y_i - mx_i - b)}{N} \\\\ \\Sigma_i \\frac{-2(y_i - mx_i - b)}{N} \\end{bmatrix}$ <br>\n",
    "### L\"(x) = $\\begin{bmatrix}\\Sigma_i \\frac{2x_i^2}{N} & \\Sigma_i \\frac{2x_i}{N} \\\\ \\Sigma_i \\frac{2x_i}{N} & \\Sigma_i \\frac{2}{N} \\end{bmatrix}$"
   ]
  },
  {
   "cell_type": "code",
   "execution_count": 41,
   "id": "9be94fd3-603e-4c7e-919f-1d883080e5fc",
   "metadata": {},
   "outputs": [],
   "source": [
    "X = np.random.uniform(0, 10, 1000)\n",
    "Y = 4*X + 3 + np.random.normal(0, 3, 1000)"
   ]
  },
  {
   "cell_type": "code",
   "execution_count": 42,
   "id": "97d11172-a6a2-42d2-82bf-afd313eb25b4",
   "metadata": {},
   "outputs": [
    {
     "data": {
      "text/plain": [
       "<matplotlib.collections.PathCollection at 0x112b76c60>"
      ]
     },
     "execution_count": 42,
     "metadata": {},
     "output_type": "execute_result"
    },
    {
     "data": {
      "image/png": "[encoded data removed]",
      "text/plain": [
       "<Figure size 640x480 with 1 Axes>"
      ]
     },
     "metadata": {},
     "output_type": "display_data"
    }
   ],
   "source": [
    "plt.scatter(X, Y)"
   ]
  },
  {
   "cell_type": "code",
   "execution_count": 43,
   "id": "16d7ceb9-8c9f-4e0f-9e24-5116cfb39b64",
   "metadata": {},
   "outputs": [],
   "source": [
    "# L'(x) = f(x)\n",
    "def Deri(x, y, coeff):\n",
    "    Top = sum(-2*x*(y - coeff[0][0]*x - coeff[1][0]))/len(x)\n",
    "    Bot = sum(-2*(y - coeff[0][0]*x - coeff[1][0]))/len(x)\n",
    "    return np.array([[Top, Bot]]).T\n",
    "\n",
    "def DoubleDeri(x, y, coeff):\n",
    "    return np.array([[sum(x**2), sum(x)], [sum(x), len(x)]]) * 2/len(x)\n",
    "\n",
    "def Norm(Mat):\n",
    "    return (Mat[0][0]**2 + Mat[1][0]**2)**0.5\n",
    "\n",
    "    \n",
    "def NewRaph(x, y, iters = 1e3, eps = 1e-4):\n",
    "    co = np.array([[5, 10]]).T\n",
    "    it = 0\n",
    "    while Norm(Deri(x, y, co)) > eps:\n",
    "        co = co - np.dot(np.linalg.inv(DoubleDeri(x, y, co)), Deri(x, y, co))\n",
    "        it += 1\n",
    "        if (it > iters):\n",
    "            return \"Max Iters\"\n",
    "    return co.T[0]"
   ]
  },
  {
   "cell_type": "code",
   "execution_count": 44,
   "id": "06937922-9ad3-4897-b1fb-ea3f33b113ee",
   "metadata": {},
   "outputs": [
    {
     "data": {
      "text/plain": [
       "array([4.00167458, 2.99778743])"
      ]
     },
     "execution_count": 44,
     "metadata": {},
     "output_type": "execute_result"
    }
   ],
   "source": [
    "NewRaph(X, Y)"
   ]
  },
  {
   "cell_type": "code",
   "execution_count": 45,
   "id": "6d1d5f93-d79d-4856-a491-c82805d93e40",
   "metadata": {},
   "outputs": [],
   "source": [
    "def GD(x, y, iters = 1e3, eps = 1e-4, lr = 1e-2):\n",
    "    co = np.array([[3, 4]]).T\n",
    "    it = 0\n",
    "    while Norm(Deri(x, y, co)) > eps:\n",
    "        iters += 1\n",
    "        co = co - lr * Deri(x, y, co)\n",
    "        if iters\n",
    "    return co.T[0]"
   ]
  },
  {
   "cell_type": "code",
   "execution_count": 46,
   "id": "1c888e6d-3e6a-476a-9a03-4af0e6f1ace1",
   "metadata": {},
   "outputs": [
    {
     "data": {
      "text/plain": [
       "array([4.00164385, 2.99799413])"
      ]
     },
     "execution_count": 46,
     "metadata": {},
     "output_type": "execute_result"
    }
   ],
   "source": [
    "GD(X, Y)"
   ]
  }
 ],
 "metadata": {
  "kernelspec": {
   "display_name": "Python 3 (ipykernel)",
   "language": "python",
   "name": "python3"
  },
  "language_info": {
   "codemirror_mode": {
    "name": "ipython",
    "version": 3
   },
   "file_extension": ".py",
   "mimetype": "text/x-python",
   "name": "python",
   "nbconvert_exporter": "python",
   "pygments_lexer": "ipython3",
   "version": "3.12.1"
  }
 },
 "nbformat": 4,
 "nbformat_minor": 5
}
