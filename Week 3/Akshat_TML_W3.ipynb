{
 "cells": [
  {
   "cell_type": "code",
   "execution_count": 1,
   "metadata": {},
   "outputs": [],
   "source": [
    "import numpy as np\n",
    "import matplotlib.pyplot as plt\n",
    "import pandas as pd\n",
    "import math"
   ]
  },
  {
   "cell_type": "code",
   "execution_count": 2,
   "metadata": {},
   "outputs": [
    {
     "data": {
      "text/html": [
       "<div>\n",
       "<style scoped>\n",
       "    .dataframe tbody tr th:only-of-type {\n",
       "        vertical-align: middle;\n",
       "    }\n",
       "\n",
       "    .dataframe tbody tr th {\n",
       "        vertical-align: top;\n",
       "    }\n",
       "\n",
       "    .dataframe thead th {\n",
       "        text-align: right;\n",
       "    }\n",
       "</style>\n",
       "<table border=\"1\" class=\"dataframe\">\n",
       "  <thead>\n",
       "    <tr style=\"text-align: right;\">\n",
       "      <th></th>\n",
       "      <th>Unnamed: 0</th>\n",
       "      <th>overall_sr</th>\n",
       "      <th>won</th>\n",
       "    </tr>\n",
       "  </thead>\n",
       "  <tbody>\n",
       "    <tr>\n",
       "      <th>0</th>\n",
       "      <td>1</td>\n",
       "      <td>168.817204</td>\n",
       "      <td>1</td>\n",
       "    </tr>\n",
       "    <tr>\n",
       "      <th>1</th>\n",
       "      <td>2</td>\n",
       "      <td>165.432099</td>\n",
       "      <td>0</td>\n",
       "    </tr>\n",
       "    <tr>\n",
       "      <th>2</th>\n",
       "      <td>3</td>\n",
       "      <td>121.568627</td>\n",
       "      <td>0</td>\n",
       "    </tr>\n",
       "    <tr>\n",
       "      <th>3</th>\n",
       "      <td>4</td>\n",
       "      <td>149.541284</td>\n",
       "      <td>1</td>\n",
       "    </tr>\n",
       "    <tr>\n",
       "      <th>4</th>\n",
       "      <td>5</td>\n",
       "      <td>151.898734</td>\n",
       "      <td>0</td>\n",
       "    </tr>\n",
       "    <tr>\n",
       "      <th>5</th>\n",
       "      <td>6</td>\n",
       "      <td>124.489796</td>\n",
       "      <td>0</td>\n",
       "    </tr>\n",
       "    <tr>\n",
       "      <th>6</th>\n",
       "      <td>7</td>\n",
       "      <td>112.000000</td>\n",
       "      <td>0</td>\n",
       "    </tr>\n",
       "    <tr>\n",
       "      <th>7</th>\n",
       "      <td>8</td>\n",
       "      <td>178.688525</td>\n",
       "      <td>1</td>\n",
       "    </tr>\n",
       "    <tr>\n",
       "      <th>8</th>\n",
       "      <td>9</td>\n",
       "      <td>150.000000</td>\n",
       "      <td>1</td>\n",
       "    </tr>\n",
       "    <tr>\n",
       "      <th>9</th>\n",
       "      <td>10</td>\n",
       "      <td>91.176471</td>\n",
       "      <td>0</td>\n",
       "    </tr>\n",
       "    <tr>\n",
       "      <th>10</th>\n",
       "      <td>11</td>\n",
       "      <td>222.429907</td>\n",
       "      <td>1</td>\n",
       "    </tr>\n",
       "    <tr>\n",
       "      <th>11</th>\n",
       "      <td>12</td>\n",
       "      <td>163.414634</td>\n",
       "      <td>1</td>\n",
       "    </tr>\n",
       "    <tr>\n",
       "      <th>12</th>\n",
       "      <td>13</td>\n",
       "      <td>217.307692</td>\n",
       "      <td>1</td>\n",
       "    </tr>\n",
       "    <tr>\n",
       "      <th>13</th>\n",
       "      <td>14</td>\n",
       "      <td>113.207547</td>\n",
       "      <td>1</td>\n",
       "    </tr>\n",
       "    <tr>\n",
       "      <th>14</th>\n",
       "      <td>15</td>\n",
       "      <td>161.224490</td>\n",
       "      <td>1</td>\n",
       "    </tr>\n",
       "    <tr>\n",
       "      <th>15</th>\n",
       "      <td>16</td>\n",
       "      <td>143.902439</td>\n",
       "      <td>0</td>\n",
       "    </tr>\n",
       "  </tbody>\n",
       "</table>\n",
       "</div>"
      ],
      "text/plain": [
       "    Unnamed: 0  overall_sr  won\n",
       "0            1  168.817204    1\n",
       "1            2  165.432099    0\n",
       "2            3  121.568627    0\n",
       "3            4  149.541284    1\n",
       "4            5  151.898734    0\n",
       "5            6  124.489796    0\n",
       "6            7  112.000000    0\n",
       "7            8  178.688525    1\n",
       "8            9  150.000000    1\n",
       "9           10   91.176471    0\n",
       "10          11  222.429907    1\n",
       "11          12  163.414634    1\n",
       "12          13  217.307692    1\n",
       "13          14  113.207547    1\n",
       "14          15  161.224490    1\n",
       "15          16  143.902439    0"
      ]
     },
     "execution_count": 2,
     "metadata": {},
     "output_type": "execute_result"
    }
   ],
   "source": [
    "df=pd.read_csv(r\"C:\\Users\\Akshat\\Downloads\\IPL2016.csv\")\n",
    "df"
   ]
  },
  {
   "cell_type": "code",
   "execution_count": 3,
   "metadata": {},
   "outputs": [],
   "source": [
    "arr=np.array(df)"
   ]
  },
  {
   "cell_type": "code",
   "execution_count": 4,
   "metadata": {},
   "outputs": [
    {
     "data": {
      "image/png": "[encoded data removed]",
      "text/plain": [
       "<Figure size 640x480 with 1 Axes>"
      ]
     },
     "metadata": {},
     "output_type": "display_data"
    }
   ],
   "source": [
    "features=arr[:,1]\n",
    "targets=arr[:,2]\n",
    "\n",
    "plt.scatter(features, targets, c='green')\n",
    "plt.xlabel('Combined Strike Rate of AB de Villiers and Virat Kohli')\n",
    "plt.ylabel('Match won/lost')\n",
    "plt.show()"
   ]
  },
  {
   "cell_type": "code",
   "execution_count": 5,
   "metadata": {},
   "outputs": [],
   "source": [
    "mean=np.mean(features)\n",
    "std=np.std(features)\n",
    "\n",
    "features=(features-mean)/std"
   ]
  },
  {
   "cell_type": "code",
   "execution_count": 6,
   "metadata": {},
   "outputs": [
    {
     "data": {
      "text/plain": [
       "array([ 0.48014607,  0.38237206, -0.88456255, -0.07661174, -0.00852012,\n",
       "       -0.80018871, -1.16093888,  0.76526525, -0.06336239, -1.76239721,\n",
       "        2.02867348,  0.32410043,  1.88072554, -1.12606058,  0.2608412 ,\n",
       "       -0.23948185])"
      ]
     },
     "execution_count": 6,
     "metadata": {},
     "output_type": "execute_result"
    }
   ],
   "source": [
    "features"
   ]
  },
  {
   "cell_type": "code",
   "execution_count": 7,
   "metadata": {},
   "outputs": [],
   "source": [
    "def compute_loss(pred, targ):\n",
    "\n",
    "    eps=1.0e-10\n",
    "\n",
    "    if(targ==0):\n",
    "        loss=-(np.log(1-pred+eps))\n",
    "\n",
    "    else:\n",
    "        loss=-(np.log(pred+eps))\n",
    "\n",
    "    return loss"
   ]
  },
  {
   "cell_type": "code",
   "execution_count": 8,
   "metadata": {},
   "outputs": [],
   "source": [
    "def compute_cost(y_pred, y,w):\n",
    "    cost=0\n",
    "    m=len(y)\n",
    "    for i in range(m):\n",
    "        cost+=compute_loss(y_pred[i], y[i])\n",
    "        \n",
    "    cost+=0.01*(w**2)\n",
    "    cost/=m\n",
    "    return cost"
   ]
  },
  {
   "cell_type": "code",
   "execution_count": 9,
   "metadata": {},
   "outputs": [],
   "source": [
    "def sigmoid(x):\n",
    "    return 1/(1+np.exp(-x))"
   ]
  },
  {
   "cell_type": "code",
   "execution_count": 10,
   "metadata": {},
   "outputs": [],
   "source": [
    "def pred(X,w,b):\n",
    "\n",
    "    m=len(X)\n",
    "    y=np.zeros((m), dtype=np.float16)    \n",
    "\n",
    "    z=np.dot(X,w)+b\n",
    "    y=sigmoid(z)\n",
    "\n",
    "    return y"
   ]
  },
  {
   "cell_type": "code",
   "execution_count": 11,
   "metadata": {},
   "outputs": [],
   "source": [
    "def compute_gradient(w,b,X,y):\n",
    "    m=len(y)\n",
    "    predictions=pred(X,w,b)\n",
    "    act=y\n",
    "    dw=0\n",
    "    db=0\n",
    "\n",
    "    err=predictions-y\n",
    "\n",
    "    dw=(np.dot(X.T, err)+0.02*w)/m\n",
    "    db=np.sum(err)/m\n",
    "\n",
    "    return db, dw"
   ]
  },
  {
   "cell_type": "code",
   "execution_count": 12,
   "metadata": {},
   "outputs": [],
   "source": [
    "def gradient_descent(X,y,num_epochs,w_init,b_init,alpha):\n",
    "    w=w_init\n",
    "    b=b_init\n",
    "    cost_history=[]\n",
    "    \n",
    "    for i in range(num_epochs):\n",
    "        y_pred=pred(X,w,b)\n",
    "        loss=compute_cost(y_pred,y,w)\n",
    "        db, dw=compute_gradient(w,b,X,y)\n",
    "        cost_history.append(loss)\n",
    "\n",
    "        w=w-dw*alpha\n",
    "        b=b-db*alpha\n",
    "\n",
    "    return w, b, cost_history"
   ]
  },
  {
   "cell_type": "code",
   "execution_count": 13,
   "metadata": {},
   "outputs": [],
   "source": [
    "w_init=np.random.randn()\n",
    "b_init=np.random.randn()\n",
    "w,b,hist=gradient_descent(features,targets,10000,w_init,b_init,0.001)"
   ]
  },
  {
   "cell_type": "code",
   "execution_count": 14,
   "metadata": {},
   "outputs": [
    {
     "data": {
      "image/png": "[encoded data removed]",
      "text/plain": [
       "<Figure size 640x480 with 1 Axes>"
      ]
     },
     "metadata": {},
     "output_type": "display_data"
    }
   ],
   "source": [
    "plt.plot(hist)\n",
    "plt.xlabel('Epochs')\n",
    "plt.ylabel('Cost')\n",
    "plt.title('Cost History over Epochs')\n",
    "plt.show()"
   ]
  },
  {
   "cell_type": "code",
   "execution_count": 15,
   "metadata": {},
   "outputs": [],
   "source": [
    "def fpred(X, w, b):\n",
    "    p=pred(X, w, b)\n",
    "    y=np.zeros(X.shape[0])\n",
    "    for i in range(len(y)):\n",
    "        if(p[i]>=0.5):\n",
    "            y[i]=1\n",
    "\n",
    "        else:\n",
    "            y[i]=0\n",
    "\n",
    "    return y"
   ]
  },
  {
   "cell_type": "code",
   "execution_count": 16,
   "metadata": {},
   "outputs": [
    {
     "name": "stdout",
     "output_type": "stream",
     "text": [
      "Final weight: 1.6457400632324375\n",
      "Final bias: 0.16263970108957043\n",
      "Targets: (array([ 0.48014607,  0.38237206, -0.88456255, -0.07661174, -0.00852012,\n",
      "       -0.80018871, -1.16093888,  0.76526525, -0.06336239, -1.76239721,\n",
      "        2.02867348,  0.32410043,  1.88072554, -1.12606058,  0.2608412 ,\n",
      "       -0.23948185]), array([1., 0., 0., 1., 0., 0., 0., 1., 1., 0., 1., 1., 1., 1., 1., 0.]))\n",
      "Predictions: [1. 1. 0. 1. 1. 0. 0. 1. 1. 0. 1. 1. 1. 0. 1. 0.]\n"
     ]
    }
   ],
   "source": [
    "print(\"Final weight:\", w)\n",
    "print(\"Final bias:\", b)\n",
    "print(\"Targets:\", (features,targets))\n",
    "print(\"Predictions:\", fpred(features, w, b))"
   ]
  },
  {
   "cell_type": "code",
   "execution_count": 17,
   "metadata": {},
   "outputs": [
    {
     "data": {
      "image/png": "[encoded data removed]",
      "text/plain": [
       "<Figure size 640x480 with 1 Axes>"
      ]
     },
     "metadata": {},
     "output_type": "display_data"
    },
    {
     "data": {
      "image/png": "[encoded data removed]",
      "text/plain": [
       "<Figure size 640x480 with 1 Axes>"
      ]
     },
     "metadata": {},
     "output_type": "display_data"
    }
   ],
   "source": [
    "p=fpred(features, w, b)\n",
    "plt.scatter(features, targets, c='blue')\n",
    "plt.title('Targets')\n",
    "plt.show()\n",
    "\n",
    "\n",
    "plt.scatter(features, p, c='red')\n",
    "plt.title('Predictions')\n",
    "plt.show()"
   ]
  },
  {
   "cell_type": "code",
   "execution_count": 18,
   "metadata": {},
   "outputs": [
    {
     "data": {
      "text/plain": [
       "array([168.8172043 , 165.43209877, 121.56862745, 149.5412844 ,\n",
       "       151.89873418, 124.48979592, 112.        , 178.68852459,\n",
       "       150.        ,  91.17647059, 222.42990654, 163.41463415,\n",
       "       217.30769231, 113.20754717, 161.2244898 , 143.90243902])"
      ]
     },
     "execution_count": 18,
     "metadata": {},
     "output_type": "execute_result"
    }
   ],
   "source": [
    "arr[:,1]"
   ]
  },
  {
   "cell_type": "code",
   "execution_count": 19,
   "metadata": {},
   "outputs": [
    {
     "data": {
      "text/plain": [
       "array([ 91.17647059,  92.17647059,  93.17647059,  94.17647059,\n",
       "        95.17647059,  96.17647059,  97.17647059,  98.17647059,\n",
       "        99.17647059, 100.17647059, 101.17647059, 102.17647059,\n",
       "       103.17647059, 104.17647059, 105.17647059, 106.17647059,\n",
       "       107.17647059, 108.17647059, 109.17647059, 110.17647059,\n",
       "       111.17647059, 112.17647059, 113.17647059, 114.17647059,\n",
       "       115.17647059, 116.17647059, 117.17647059, 118.17647059,\n",
       "       119.17647059, 120.17647059, 121.17647059, 122.17647059,\n",
       "       123.17647059, 124.17647059, 125.17647059, 126.17647059,\n",
       "       127.17647059, 128.17647059, 129.17647059, 130.17647059,\n",
       "       131.17647059, 132.17647059, 133.17647059, 134.17647059,\n",
       "       135.17647059, 136.17647059, 137.17647059, 138.17647059,\n",
       "       139.17647059, 140.17647059, 141.17647059, 142.17647059,\n",
       "       143.17647059, 144.17647059, 145.17647059, 146.17647059,\n",
       "       147.17647059, 148.17647059, 149.17647059, 150.17647059,\n",
       "       151.17647059, 152.17647059, 153.17647059, 154.17647059,\n",
       "       155.17647059, 156.17647059, 157.17647059, 158.17647059,\n",
       "       159.17647059, 160.17647059, 161.17647059, 162.17647059,\n",
       "       163.17647059, 164.17647059, 165.17647059, 166.17647059,\n",
       "       167.17647059, 168.17647059, 169.17647059, 170.17647059,\n",
       "       171.17647059, 172.17647059, 173.17647059, 174.17647059,\n",
       "       175.17647059, 176.17647059, 177.17647059, 178.17647059,\n",
       "       179.17647059, 180.17647059, 181.17647059, 182.17647059,\n",
       "       183.17647059, 184.17647059, 185.17647059, 186.17647059,\n",
       "       187.17647059, 188.17647059, 189.17647059, 190.17647059,\n",
       "       191.17647059, 192.17647059, 193.17647059, 194.17647059,\n",
       "       195.17647059, 196.17647059, 197.17647059, 198.17647059,\n",
       "       199.17647059, 200.17647059, 201.17647059, 202.17647059,\n",
       "       203.17647059, 204.17647059, 205.17647059, 206.17647059,\n",
       "       207.17647059, 208.17647059, 209.17647059, 210.17647059,\n",
       "       211.17647059, 212.17647059, 213.17647059, 214.17647059,\n",
       "       215.17647059, 216.17647059, 217.17647059])"
      ]
     },
     "execution_count": 19,
     "metadata": {},
     "output_type": "execute_result"
    }
   ],
   "source": [
    "feat=np.arange(91.17647059,217.30769231,1)\n",
    "feat"
   ]
  },
  {
   "cell_type": "code",
   "execution_count": 20,
   "metadata": {},
   "outputs": [
    {
     "data": {
      "image/png": "[encoded data removed]",
      "text/plain": [
       "<Figure size 640x480 with 1 Axes>"
      ]
     },
     "metadata": {},
     "output_type": "display_data"
    }
   ],
   "source": [
    "plt.scatter(feat, pred((feat-mean)/std,w,b))\n",
    "plt.xlabel('Strike Rate (combined)')\n",
    "plt.ylabel('Win probability')\n",
    "plt.show()"
   ]
  },
  {
   "cell_type": "code",
   "execution_count": 21,
   "metadata": {},
   "outputs": [],
   "source": [
    "def accuracy(X,y,w,b):\n",
    "    p=fpred(X,w,b)\n",
    "    ct=0\n",
    "    m=len(y)\n",
    "    for i in range(m):\n",
    "        if(p[i]==y[i]):\n",
    "            ct+=1\n",
    "\n",
    "    print(f\"Accuracy over training data: {100*ct/m} %\")"
   ]
  },
  {
   "cell_type": "code",
   "execution_count": 22,
   "metadata": {},
   "outputs": [
    {
     "name": "stdout",
     "output_type": "stream",
     "text": [
      "Accuracy over training data: 81.25 %\n"
     ]
    }
   ],
   "source": [
    "accuracy(features, targets, w, b)"
   ]
  },
  {
   "cell_type": "code",
   "execution_count": 23,
   "metadata": {},
   "outputs": [],
   "source": [
    "def predict(score, w, b):\n",
    "    score=(score-mean)/std\n",
    "    f=(w*score+b)\n",
    "    y=1/(1+math.exp(-f))\n",
    "    print(f\"Probability  of winning: {y}\")\n",
    "    \"\"\"if(y>=0.5):\n",
    "        print(\"RCB WILL WIN!!!\")\n",
    "    else:\n",
    "        print(\"RCB WILL LOSE :(\")\"\"\""
   ]
  },
  {
   "cell_type": "code",
   "execution_count": 35,
   "metadata": {},
   "outputs": [
    {
     "name": "stdout",
     "output_type": "stream",
     "text": [
      "Probability  of winning: 0.5003299557968377\n"
     ]
    }
   ],
   "source": [
    "x=float(input())\n",
    "predict(x, w, b)"
   ]
  }
 ],
 "metadata": {
  "kernelspec": {
   "display_name": "Python 3",
   "language": "python",
   "name": "python3"
  },
  "language_info": {
   "codemirror_mode": {
    "name": "ipython",
    "version": 3
   },
   "file_extension": ".py",
   "mimetype": "text/x-python",
   "name": "python",
   "nbconvert_exporter": "python",
   "pygments_lexer": "ipython3",
   "version": "3.12.2"
  }
 },
 "nbformat": 4,
 "nbformat_minor": 2
}
