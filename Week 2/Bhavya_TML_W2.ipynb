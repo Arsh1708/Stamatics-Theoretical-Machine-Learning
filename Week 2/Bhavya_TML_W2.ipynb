import numpy as np
import matplotlib.pyplot as plt
from sklearn.linear_model import LinearRegression

np.random.seed(42)

n_samples = 50

x = np.random.uniform(low=0, high=10, size=n_samples)

epsilon = np.random.normal(loc=0, scale=2, size=n_samples)

y = 3 * x + 5 + epsilon

N=len(x)
x_sum=np.sum(x)
y_sum=np.sum(y)
sum_x2=np.sum(x**2)
sum_xy=np.sum(x * y)

m=(N*sum_xy-x_sum*y_sum)/(N*sum_x2-x_sum**2)
c=(y_sum*sum_x2-x_sum*sum_xy)/(N*sum_x2-x_sum**2)

y_bstline=m*x+c

plt.scatter(x, y, label='POINTS')
plt.plot(x, y_bstline, color='red', label='BEST LINE')
plt.xlabel('x')
plt.ylabel('y')
plt.title('Scatter plot with Regression Line')
plt.legend()
plt.show()